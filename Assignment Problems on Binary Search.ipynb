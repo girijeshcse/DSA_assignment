{
 "cells": [
  {
   "cell_type": "code",
   "execution_count": 6,
   "metadata": {},
   "outputs": [
    {
     "name": "stdout",
     "output_type": "stream",
     "text": [
      "Integer square root of 8 is:  2\n"
     ]
    }
   ],
   "source": [
    "# Compute and return the square root of x, where x is guaranteed to be a non-negative integer. \n",
    "#And since the return type is an integer, the decimal digits are truncated and only the integer\n",
    "#part of the result is returned. Also, talk about the time complexity of your code.\n",
    "\n",
    "# Test Cases:\n",
    "# Input: 4\n",
    "# Output: 2\n",
    "\n",
    "# Input: 8\n",
    "# Output: 2\n",
    "# Explanation: The square root of 8 is 2.8284…., the decimal part is truncated and 2 is returned.\n",
    "\n",
    "# Hint: Try to use a modified binary search approach for an optimized solution\n",
    "\n",
    "def squareRoot(x):\n",
    "    start = 0\n",
    "    end = x\n",
    "    while start <= end:\n",
    "        mid = start + (end - start)//2\n",
    "        if mid * mid == x:\n",
    "            return mid\n",
    "        elif mid * mid < x:\n",
    "            start = mid + 1\n",
    "        else: \n",
    "            end = mid - 1\n",
    "    return end\n",
    "    \n",
    "\n",
    "# Driver code \n",
    "sqrt = squareRoot(8)\n",
    "print(\"Integer square root of 8 is: \", sqrt)"
   ]
  },
  {
   "cell_type": "code",
   "execution_count": 7,
   "metadata": {},
   "outputs": [
    {
     "name": "stdout",
     "output_type": "stream",
     "text": [
      "First bad version is  3\n"
     ]
    }
   ],
   "source": [
    "# You are a product manager and currently leading a team to develop a new product. Unfortunately, the latest version\n",
    "# of your product fails the quality check. Since each version is developed based on the previous version, all the versions\n",
    "# after a bad version are also bad. Suppose you have n version and you want to find out the first bad one, which causes all the following ones to be bad. Also, talk about the time complexity of your code.\n",
    "# Test Cases:\n",
    "# Input: [0,0,0,1,1,1,1,1,1]\n",
    "# Output: 3\n",
    "# Explanation: 0 indicates a good version and 1 indicates a bad version. So, the index of the first 1 is at 3. Thus, the output is 3\n",
    "\n",
    "def firstBadVersion(nums):\n",
    "    start = 0\n",
    "    end = len(nums) - 1\n",
    "    while start <= end:\n",
    "        mid = start + (end - start)//2\n",
    "        if nums[mid] == 0:\n",
    "            start = mid +1\n",
    "        else:\n",
    "            end = mid - 1\n",
    "    return start\n",
    "                \n",
    "            \n",
    "    \n",
    "\n",
    "\n",
    "#Driver code\n",
    "nums = [0,0,0,1,1,1,1,1,1]\n",
    "bad = firstBadVersion(nums)\n",
    "print(\"First bad version is \", bad)\n",
    "# Complexity O(logn)"
   ]
  },
  {
   "cell_type": "code",
   "execution_count": 9,
   "metadata": {},
   "outputs": [
    {
     "name": "stdout",
     "output_type": "stream",
     "text": [
      "Given number 15 is perfect square  False\n"
     ]
    }
   ],
   "source": [
    "# Given a positive integer num, write a program that returns True if num is a perfect square else return False. \n",
    "# Do not use built-in functions like sqrt. Also, talk about the time complexity of your code.\n",
    "# Test Cases:\n",
    "# Input: 16\n",
    "# Output: True\n",
    "\n",
    "# Input: 14\n",
    "# Output: False\n",
    "\n",
    "def perfectSquare(x):\n",
    "    start = 0\n",
    "    end = x\n",
    "    while start <= end:\n",
    "        mid = start + (end - start)//2\n",
    "        if mid * mid == x:\n",
    "            return True\n",
    "        elif mid * mid < x:\n",
    "            start = mid + 1\n",
    "        else: \n",
    "            end = mid - 1\n",
    "    return False\n",
    "\n",
    "#Driver code\n",
    "x = 15\n",
    "print(f\"Given number {x} is perfect square \", perfectSquare(x))"
   ]
  },
  {
   "cell_type": "code",
   "execution_count": null,
   "metadata": {},
   "outputs": [],
   "source": []
  }
 ],
 "metadata": {
  "kernelspec": {
   "display_name": "Python 3",
   "language": "python",
   "name": "python3"
  },
  "language_info": {
   "codemirror_mode": {
    "name": "ipython",
    "version": 3
   },
   "file_extension": ".py",
   "mimetype": "text/x-python",
   "name": "python",
   "nbconvert_exporter": "python",
   "pygments_lexer": "ipython3",
   "version": "3.8.5"
  }
 },
 "nbformat": 4,
 "nbformat_minor": 4
}
